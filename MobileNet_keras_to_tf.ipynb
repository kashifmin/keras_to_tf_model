{
 "cells": [
  {
   "cell_type": "code",
   "execution_count": 3,
   "metadata": {},
   "outputs": [],
   "source": [
    "from keras.applications.mobilenet import MobileNet\n",
    "from keras.preprocessing import image\n",
    "from keras.applications.mobilenet import preprocess_input, decode_predictions\n",
    "import numpy as np\n",
    "\n",
    "import keras.backend as K\n",
    "from tensorflow.python.framework import graph_util\n",
    "from tensorflow.python.framework import graph_io\n",
    "\n",
    "K.set_learning_phase(0) # set phase as testing"
   ]
  },
  {
   "cell_type": "code",
   "execution_count": 4,
   "metadata": {},
   "outputs": [],
   "source": [
    "model = MobileNet(weights='imagenet')"
   ]
  },
  {
   "cell_type": "markdown",
   "metadata": {},
   "source": [
    "# Make inference for an image"
   ]
  },
  {
   "cell_type": "code",
   "execution_count": 5,
   "metadata": {},
   "outputs": [
    {
     "name": "stdout",
     "output_type": "stream",
     "text": [
      "Predicted: [('n02504013', 'Indian_elephant', 0.9265905), ('n02504458', 'African_elephant', 0.032345593), ('n01871265', 'tusker', 0.022741912)]\n"
     ]
    }
   ],
   "source": [
    "img_path = 'elephant.jpg'\n",
    "img = image.load_img(img_path, target_size=(224, 224))\n",
    "x = image.img_to_array(img)\n",
    "x = np.expand_dims(x, axis=0)\n",
    "x = preprocess_input(x)\n",
    "\n",
    "preds = model.predict(x)\n",
    "# decode the results into a list of tuples (class, description, probability)\n",
    "# (one such list for each sample in the batch)\n",
    "print('Predicted:', decode_predictions(preds, top=3)[0])"
   ]
  },
  {
   "cell_type": "code",
   "execution_count": 6,
   "metadata": {},
   "outputs": [
    {
     "name": "stdout",
     "output_type": "stream",
     "text": [
      "['output_0']\n",
      "Tensor(\"reshape_2/Reshape:0\", shape=(?, 1000), dtype=float32)\n"
     ]
    }
   ],
   "source": [
    "import tensorflow as tf\n",
    "# Rename output\n",
    "out_prefix = 'output'\n",
    "OUT_NAMES = [None] * len(model.outputs)\n",
    "OUT_TENSORS = [None] * len(model.outputs)\n",
    "for i in range(len(model.outputs)):\n",
    "    OUT_NAMES[i] = out_prefix + '_' + str(i)\n",
    "    OUT_TENSORS = tf.identity(model.output[i], name=OUT_NAMES[i])\n",
    "print(OUT_NAMES)\n",
    "print(model.output)"
   ]
  },
  {
   "cell_type": "markdown",
   "metadata": {},
   "source": [
    "# Save model as tensorflow model (.pb)\n"
   ]
  },
  {
   "cell_type": "code",
   "execution_count": 7,
   "metadata": {
    "collapsed": true
   },
   "outputs": [],
   "source": [
    "output_path = 'saved_tf_model/'\n",
    "model_name = 'mobilenet_v1.pb'"
   ]
  },
  {
   "cell_type": "code",
   "execution_count": 9,
   "metadata": {},
   "outputs": [
    {
     "name": "stdout",
     "output_type": "stream",
     "text": [
      "INFO:tensorflow:Froze 137 variables.\n",
      "Converted 137 variables to const ops.\n",
      "saved the constant graph (ready for inference) at:  saved_tf_model/mobilenet_v1.pb\n"
     ]
    }
   ],
   "source": [
    "\n",
    "\n",
    "sess = K.get_session()\n",
    "# sess.graph_def\n",
    "\n",
    "constant_graph = graph_util.convert_variables_to_constants(sess, sess.graph.as_graph_def(), output_node_names=OUT_NAMES)\n",
    "graph_io.write_graph(constant_graph, output_path, model_name, as_text=False)\n",
    "print('saved the constant graph (ready for inference) at: ', output_path + model_name)"
   ]
  }
 ],
 "metadata": {
  "kernelspec": {
   "display_name": "Python 3",
   "language": "python",
   "name": "python3"
  },
  "language_info": {
   "codemirror_mode": {
    "name": "ipython",
    "version": 3
   },
   "file_extension": ".py",
   "mimetype": "text/x-python",
   "name": "python",
   "nbconvert_exporter": "python",
   "pygments_lexer": "ipython3",
   "version": "3.5.2"
  }
 },
 "nbformat": 4,
 "nbformat_minor": 2
}
